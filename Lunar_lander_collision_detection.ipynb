{
  "nbformat": 4,
  "nbformat_minor": 0,
  "metadata": {
    "colab": {
      "provenance": [],
      "toc_visible": true,
      "include_colab_link": true
    },
    "kernelspec": {
      "name": "python3",
      "display_name": "Python 3"
    },
    "language_info": {
      "name": "python"
    }
  },
  "cells": [
    {
      "cell_type": "markdown",
      "metadata": {
        "id": "view-in-github",
        "colab_type": "text"
      },
      "source": [
        "<a href=\"https://colab.research.google.com/github/nettemvenkatesh999/AI-project/blob/main/Lunar_lander_collision_detection.ipynb\" target=\"_parent\"><img src=\"https://colab.research.google.com/assets/colab-badge.svg\" alt=\"Open In Colab\"/></a>"
      ]
    },
    {
      "cell_type": "code",
      "execution_count": null,
      "metadata": {
        "id": "ogyxbXlkmFhK"
      },
      "outputs": [],
      "source": [
        "!pip install gym[box2d] pyglet==1.5.26"
      ]
    },
    {
      "cell_type": "code",
      "source": [
        "!pip install git+https://github.com/carlosluis/stable-baselines3@fix_tests"
      ],
      "metadata": {
        "id": "OLn0pUU9mlmv"
      },
      "execution_count": null,
      "outputs": []
    },
    {
      "cell_type": "code",
      "source": [
        "!pip install \"stable-baselines3[extra]>=2.0.0a4\""
      ],
      "metadata": {
        "id": "Ls3WtpKF0KDD"
      },
      "execution_count": null,
      "outputs": []
    },
    {
      "cell_type": "code",
      "source": [
        "import gym\n",
        "import math\n",
        "import imageio.v2 as imageio\n",
        "import os\n",
        "import numpy as np\n",
        "from tqdm import tqdm\n",
        "import matplotlib.pyplot as plt\n",
        "from joblib import load, dump\n",
        "from stable_baselines3.common.results_plotter import ts2xy, load_results"
      ],
      "metadata": {
        "id": "ZjNBcY-XsYNC"
      },
      "execution_count": null,
      "outputs": []
    },
    {
      "cell_type": "code",
      "source": [
        "#number of timesteps\n",
        "n = 500\n",
        "\n",
        "#Since we pass render_mode=\"human\", you should see a window pop up rendering the environment.\n",
        "render_mode = 'human' #or, 'human'\n",
        "env = gym.make(\"LunarLander-v2\", render_mode=render_mode)\n",
        "\n",
        "# Initialize empty buffer for the images that will be stiched to a gif\n",
        "# Create a temp directory\n",
        "filenames = []\n",
        "try:\n",
        "    os.mkdir(\"./temp\")\n",
        "except:\n",
        "    pass\n",
        "\n",
        "env.action_space.seed(42)\n",
        "\n",
        "observation, info = env.reset(seed=42)\n",
        "\n",
        "episode=1\n",
        "step=0"
      ],
      "metadata": {
        "id": "ja96ZlEnxPXg"
      },
      "execution_count": null,
      "outputs": []
    },
    {
      "cell_type": "markdown",
      "source": [
        "# New Section"
      ],
      "metadata": {
        "id": "Hzj1_0xS5KQT"
      }
    },
    {
      "cell_type": "code",
      "source": [
        "for i in tqdm(range(n)):\n",
        "    # Plot the previous state and save it as an image that \n",
        "    # will be later patched together sa a .gif\n",
        "    img = plt.imshow(env.render())\n",
        "\n",
        "    plt.title(\"Episode: {}, Step: {}\".format(episode,step))\n",
        "    plt.axis('off')\n",
        "    plt.savefig(\"./temp/{}.png\".format(i))\n",
        "    plt.close()\n",
        "    filenames.append(\"./temp/{}.png\".format(i))\n",
        "\n",
        "\n",
        "    action = env.action_space.sample()\n",
        "    observation, reward, terminated, truncated, info = env.step(action)\n",
        "    step += 1\n",
        "    if terminated or truncated:\n",
        "        episode += 1\n",
        "        step = 0\n",
        "        observation, info = env.reset()\n",
        "        #break"
      ],
      "metadata": {
        "id": "AprElDjLnjT_"
      },
      "execution_count": null,
      "outputs": []
    },
    {
      "cell_type": "code",
      "source": [
        "# Stitch the images together to produce a .gif\n",
        "with imageio.get_writer('./temp/CarRacing-v2-random.gif', mode='I') as writer:\n",
        "    for filename in filenames:\n",
        "        image = imageio.imread(filename)\n",
        "        writer.append_data(image)\n",
        "\n",
        "# Cleanup the images for the next run\n",
        "# for f in filenames:\n",
        "#     os.remove(f)\n",
        "\n",
        "\n",
        "# env.close()"
      ],
      "metadata": {
        "id": "sgAZxF8KtAAU"
      },
      "execution_count": null,
      "outputs": []
    },
    {
      "cell_type": "code",
      "source": [],
      "metadata": {
        "id": "9TXW6I3B3Gy2"
      },
      "execution_count": null,
      "outputs": []
    }
  ]
}